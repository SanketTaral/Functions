{
  "nbformat": 4,
  "nbformat_minor": 0,
  "metadata": {
    "colab": {
      "provenance": []
    },
    "kernelspec": {
      "name": "python3",
      "display_name": "Python 3"
    },
    "language_info": {
      "name": "python"
    }
  },
  "cells": [
    {
      "cell_type": "code",
      "execution_count": null,
      "metadata": {
        "id": "dSDjAtpFSLQV"
      },
      "outputs": [],
      "source": [
        "Functions"
      ]
    },
    {
      "cell_type": "markdown",
      "source": [
        "Q.1. What is the difference between a function and a method in Python?\n",
        "\n",
        "Answer :- In Python, both functions and methods are callable objects that perform operations, but the key difference lies in how they are defined and used.\n",
        "\n",
        "Example of a function:\n",
        "\n",
        "def add(a, b):\n",
        "    return a + b\n",
        "\n",
        "result = add(3, 5)  # Calling the function\n",
        "print(result)  # Output: 8\n",
        "\n",
        "\n",
        "\n",
        "\n",
        "Example of a method:\n",
        "\n",
        "class Calculator:\n",
        "    def __init__(self, value):\n",
        "        self.value = value\n",
        "    \n",
        "    def add(self, number):\n",
        "        self.value += number\n",
        "        return self.value\n",
        "\n",
        "calc = Calculator(10)\n",
        "result = calc.add(5)  # Calling the method on an instance of the class\n",
        "print(result)  # Output: 15"
      ],
      "metadata": {
        "id": "kXzyySwxSWgI"
      }
    },
    {
      "cell_type": "markdown",
      "source": [
        "Q.2) Explain the concept of function arguments and parameters in Python?\n",
        "\n",
        "Answer :- In Python, function arguments and parameters refer to the values that are passed into a function and the variables that receive those values within the function.\n",
        "\n",
        "# Function definition with parameters\n",
        "def greet(name, age):\n",
        "    print(f\"Hello, {name}! You are {age} years old.\")\n",
        "\n",
        "# Function call with arguments\n",
        "greet(\"Alice\", 30)\n",
        "\n"
      ],
      "metadata": {
        "id": "owC5sRYLTQ7c"
      }
    },
    {
      "cell_type": "markdown",
      "source": [
        "Q.3) What are the different ways to define and call a function in Python?\n",
        "\n",
        "Answer :- In Python, function arguments and parameters refer to the values that are passed into a function and the variables that receive those values within the function.\n",
        "\n",
        "1) Positional Arguments:\n",
        "def add(a, b):\n",
        "    return a + b\n",
        "\n",
        "result = add(3, 5)  # Positional arguments\n",
        "print(result)  # Output: 8\n",
        "\n",
        "\n",
        "2) Keyword Arguments:\n",
        "def greet(name, age):\n",
        "    print(f\"Hello, {name}! You are {age} years old.\")\n",
        "\n",
        "greet(age=30, name=\"Bob\")  # Keyword arguments (order doesn't matter)\n",
        "\n",
        "\n",
        "\n"
      ],
      "metadata": {
        "id": "fNGaDL_DTi_S"
      }
    },
    {
      "cell_type": "markdown",
      "source": [],
      "metadata": {
        "id": "WNqQFFc2THlN"
      }
    },
    {
      "cell_type": "markdown",
      "source": [
        "Q.4)  What is the purpose of the `return` statement in a Python function?\n",
        "\n",
        "Answer :- The primary purpose of the return statement is to send a value from a function back to the caller. When a function completes execution, it can return a result (or value) to the point where it was called.\n",
        "\n",
        "Without a return statement, the function returns None by default.\n",
        "\n",
        "The value specified after return is sent back to the caller, and the function execution stops at that point.\n",
        "\n",
        "\n",
        "Example.1)\n",
        "\n",
        "def add(a, b):\n",
        "    return a + b  # Returning the sum of a and b\n",
        "\n",
        "result = add(3, 5)  # Calling the function and storing the returned value\n",
        "print(result)  # Output: 8\n",
        "\n",
        "\n"
      ],
      "metadata": {
        "id": "uZGIY6izUMo1"
      }
    },
    {
      "cell_type": "markdown",
      "source": [
        "Q.5) What are iterators in Python and how do they differ from iterables?\n",
        "\n",
        "Answer:-\n",
        "\n",
        "Iterable:\n",
        "An iterable is any object in Python that can return an iterator. In other words, an iterable is an object capable of being looped over (iterated) using a for loop. Examples of iterables include lists, tuples, sets, dictionaries, strings, and even custom objects that implement certain methods.\n",
        "\n",
        "# A list is an iterable\n",
        "my_list = [1, 2, 3, 4]\n",
        "\n",
        "# We can create an iterator from the list\n",
        "iterator = iter(my_list)\n",
        "\n",
        "# We can use the iterator to loop over the iterable\n",
        "print(next(iterator))  # Output: 1\n",
        "print(next(iterator))  # Output: 2\n",
        "\n",
        "\n",
        "\n",
        "Iterator:\n",
        "An iterator is an object that represents a stream of data. It is used to iterate over an iterable one element at a time. An iterator keeps track of the current position as it goes through the data and provides the next value using the next() function.\n",
        "\n",
        "# An iterator is created from an iterable\n",
        "my_list = [1, 2, 3, 4]\n",
        "iterator = iter(my_list)  # Create an iterator from the list\n",
        "\n",
        "# We can use the iterator to get the next value\n",
        "print(next(iterator))  # Output: 1\n",
        "print(next(iterator))  # Output: 2\n",
        "\n",
        "# After exhausting the iterable, calling next() again will raise StopIteration\n",
        "try:\n",
        "    while True:\n",
        "        print(next(iterator))\n",
        "except StopIteration:\n",
        "    print(\"End of iteration\")\n"
      ],
      "metadata": {
        "id": "GA6MMN0xU1jf"
      }
    },
    {
      "cell_type": "markdown",
      "source": [
        "Q.6) Explain the concept of generators in Python and how they are defined?\n",
        "\n",
        "Answer:- A generator in Python is a special type of iterable that allows you to iterate over a sequence of data without storing the entire sequence in memory at once. Instead of computing all the values up front and storing them in a collection like a list or tuple, a generator produces items one at a time and \"yields\" them to the caller as needed. This makes generators highly memory-efficient, especially when working with large datasets or streams of data.\n",
        "\n",
        "Example:-\n",
        "\n",
        "def countdown(n):\n",
        "    while n > 0:\n",
        "        yield n  # Yield the current value of n\n",
        "        n -= 1\n",
        "\n",
        "# Create a generator object\n",
        "countdown_gen = countdown(5)\n",
        "\n",
        "# Iterate over the generator\n",
        "print(next(countdown_gen))  # Output: 5\n",
        "print(next(countdown_gen))  # Output: 4\n",
        "print(next(countdown_gen))  # Output: 3\n"
      ],
      "metadata": {
        "id": "o4Ouxf42VKrM"
      }
    },
    {
      "cell_type": "markdown",
      "source": [
        "Q.7)  What are the advantages of using generators over regular functions?\n",
        "\n",
        "Answer:- sing generators in Python offers several advantages over regular functions (which return values directly via the return statement). These advantages mainly stem from the lazy evaluation and memory efficiency that generators provide.\n",
        "\n",
        "Example:-\n",
        "# Regular function: returns all values at once (e.g., in a list)\n",
        "def create_large_list():\n",
        "    return [x * 2 for x in range(1000000)]\n",
        "\n",
        "# Generator function: produces values lazily, one at a time\n",
        "def create_large_generator():\n",
        "    for x in range(1000000):\n",
        "        yield x * 2\n",
        "\n",
        "# Using a generator saves memory as it doesn't store the entire result\n",
        "large_gen = create_large_generator()\n"
      ],
      "metadata": {
        "id": "kkE92z4WVdbH"
      }
    },
    {
      "cell_type": "markdown",
      "source": [
        "Q.8)  What is a lambda function in Python and when is it typically used?\n",
        "\n",
        "Answer:- A lambda function in Python is a small, anonymous function that is defined using the lambda keyword. It is a way to create a function without explicitly giving it a name (hence \"anonymous\"). Lambda functions can have any number of input parameters, but they can only have a single expression. The expression is evaluated and returned when the function is called.\n",
        "\n",
        "\n",
        "Example:-\n",
        "# A simple lambda function that adds two numbers\n",
        "add = lambda x, y: x + y\n",
        "\n",
        "# Call the lambda function\n",
        "print(add(3, 5))  # Output: 8\n"
      ],
      "metadata": {
        "id": "XvUVazG5VpTj"
      }
    },
    {
      "cell_type": "markdown",
      "source": [
        "Q.9)  Explain the purpose and usage of the `map()` function in Python?\n",
        "\n",
        "Answer :- The map() function in Python is a built-in function used to apply a given function to all items in an iterable (like a list, tuple, or string) and return a map object (an iterator) that yields the results. The main purpose of map() is to transform or modify data by applying a function to each element of an iterable.\n",
        "\n",
        "Example:-\n",
        "# Define a function to square numbers\n",
        "def square(x):\n",
        "    return x * x\n",
        "\n",
        "# A list of numbers\n",
        "numbers = [1, 2, 3, 4, 5]\n",
        "\n",
        "# Apply the function to each element of the list\n",
        "squared_numbers = map(square, numbers)\n",
        "\n",
        "# Convert the map object to a list to see the results\n",
        "print(list(squared_numbers))  #Output: [1, 4, 9, 16, 25]"
      ],
      "metadata": {
        "id": "WxMVNpRKV48G"
      }
    },
    {
      "cell_type": "markdown",
      "source": [
        "Q.10)  What is the difference between `map()`, `reduce()`, and `filter()` functions in Python?\n",
        "\n",
        "Answer:- In Python, the functions map(), reduce(), and filter() are all higher-order functions that allow you to process iterables (like lists or tuples) by applying a function to each element in different ways. These functions are often used in functional programming and are part of Python's functools module (for reduce()), with map() and filter() being built-in functions.\n",
        "\n",
        "\n",
        "Example:-\n",
        "\n",
        "from functools import reduce\n",
        "\n",
        "numbers = [1, 2, 3, 4, 5]\n",
        "\n",
        "# Using map() to square each number\n",
        "squared_numbers = list(map(lambda x: x * x, numbers))\n",
        "print(squared_numbers)  # Output: [1, 4, 9, 16, 25]\n",
        "\n",
        "# Using filter() to get even numbers\n",
        "even_numbers = list(filter(lambda x: x % 2 == 0, numbers))\n",
        "print(even_numbers)  # Output: [2, 4]\n",
        "\n",
        "# Using reduce() to find the product of all numbers\n",
        "product = reduce(lambda x, y: x * y, numbers)\n",
        "print(product)  # Output: 120 (1 * 2 * 3 * 4 * 5)\n"
      ],
      "metadata": {
        "id": "IeWpx4xUWMNc"
      }
    },
    {
      "cell_type": "markdown",
      "source": [],
      "metadata": {
        "id": "n_a94NZ2WhLC"
      }
    },
    {
      "cell_type": "markdown",
      "source": [],
      "metadata": {
        "id": "1LAQfHSQWo5t"
      }
    },
    {
      "cell_type": "markdown",
      "source": [
        "Practical Questions"
      ],
      "metadata": {
        "id": "ASJdVEdPWpUI"
      }
    },
    {
      "cell_type": "markdown",
      "source": [],
      "metadata": {
        "id": "Qu9mTEzCWaSo"
      }
    },
    {
      "cell_type": "markdown",
      "source": [
        "Q.1) Write a Python function that takes a list of numbers as input and returns the sum of all even numbers in\n",
        "the list.?\n",
        "\n",
        "Answer:-\n",
        "\n",
        "def sum_even_numbers(numbers):\n",
        "    total = 0\n",
        "    for num in numbers:\n",
        "        if num % 2 == 0:  # Check if the number is even\n",
        "            total += num  # Add it to the total\n",
        "    return total\n",
        "\n",
        "# Example usage:\n",
        "numbers = [1, 2, 3, 4, 5, 6]\n",
        "result = sum_even_numbers(numbers)\n",
        "print(result)  # Output: 12 (2 + 4 + 6)\n",
        "\n"
      ],
      "metadata": {
        "id": "d_Sx04v_WzPR"
      }
    },
    {
      "cell_type": "markdown",
      "source": [
        "Q.2) Create a Python function that accepts a string and returns the reverse of that string?\n",
        "\n",
        "Answer:- def reverse_string(s):\n",
        "    return s[::-1]  # Slice the string in reverse order\n",
        "\n",
        "# Example usage:\n",
        "input_string = \"hello\"\n",
        "result = reverse_string(input_string)\n",
        "print(result)  # Output: 'olleh'\n"
      ],
      "metadata": {
        "id": "tSy-srt5XKua"
      }
    },
    {
      "cell_type": "markdown",
      "source": [
        "Q.3) Implement a Python function that takes a list of integers and returns a new list containing the squares of\n",
        "each number?\n",
        "\n",
        "Answer:-\n",
        "\n",
        "def square_numbers(numbers):\n",
        "    return [num ** 2 for num in numbers]  # List comprehension to square each number\n",
        "\n",
        "# Example usage:\n",
        "input_list = [1, 2, 3, 4, 5]\n",
        "result = square_numbers(input_list)\n",
        "print(result)  # Output: [1, 4, 9, 16, 25]\n"
      ],
      "metadata": {
        "id": "F5eslOIqXWxt"
      }
    },
    {
      "cell_type": "markdown",
      "source": [],
      "metadata": {
        "id": "xGXRKru_XagO"
      }
    },
    {
      "cell_type": "markdown",
      "source": [
        "Q.4) Write a Python function that checks if a given number is prime or not from 1 to 200?\n",
        "\n",
        "Answer :-\n",
        "\n",
        "def is_prime(num):\n",
        "    # Check if the number is less than 2, as primes are greater than 1\n",
        "    if num < 2:\n",
        "        return False\n",
        "    \n",
        "    # Check divisibility from 2 to the square root of the number\n",
        "    for i in range(2, int(num ** 0.5) + 1):\n",
        "        if num % i == 0:\n",
        "            return False  # Number is divisible by i, so it's not prime\n",
        "    return True  # The number is prime if it wasn't divisible by any number\n",
        "\n",
        "# Example usage:\n",
        "for number in range(1, 201):\n",
        "    if is_prime(number):\n",
        "        print(f\"{number} is prime\")\n",
        "\n"
      ],
      "metadata": {
        "id": "7V8l-en_Xmo0"
      }
    },
    {
      "cell_type": "markdown",
      "source": [
        "Q.8)Use a lambda function in Python to sort a list of tuples based on the second element of each tuple.?\n",
        "\n",
        "Answer :-\n",
        "\n",
        "# List of tuples\n",
        "tuples = [(1, 4), (2, 3), (3, 2), (4, 1)]\n",
        "\n",
        "# Sort the list of tuples based on the second element of each tuple\n",
        "sorted_tuples = sorted(tuples, key=lambda x: x[1])\n",
        "\n",
        "print(sorted_tuples)\n"
      ],
      "metadata": {
        "id": "EdIu6okeXxfC"
      }
    },
    {
      "cell_type": "markdown",
      "source": [
        "Q.9) Write a Python program that uses `map()` to convert a list of temperatures from Celsius to Fahrenheit?\n",
        "\n",
        "Answer :-\n",
        "\n",
        "# List of temperatures in Celsius\n",
        "celsius_temperatures = [0, 20, 30, 40, 100]\n",
        "\n",
        "# Function to convert Celsius to Fahrenheit\n",
        "def celsius_to_fahrenheit(celsius):\n",
        "    return (celsius * 9/5) + 32\n",
        "\n",
        "# Using map() to apply the conversion to each temperature in the list\n",
        "fahrenheit_temperatures = list(map(celsius_to_fahrenheit, celsius_temperatures))\n",
        "\n",
        "# Output the converted temperatures\n",
        "print(fahrenheit_temperatures)\n"
      ],
      "metadata": {
        "id": "TDb_XnurYtIu"
      }
    },
    {
      "cell_type": "markdown",
      "source": [
        "Q.10) Create a Python program that uses `filter()` to remove all the vowels from a given string.?\n",
        "\n",
        "Answer:-\n",
        "\n",
        "# Function to check if a character is not a vowel\n",
        "def is_not_vowel(char):\n",
        "    vowels = 'aeiouAEIOU'  # List of vowels (both lowercase and uppercase)\n",
        "    return char not in vowels\n",
        "\n",
        "# Given string\n",
        "input_string = \"Hello, World!\"\n",
        "\n",
        "# Using filter() to remove vowels from the string\n",
        "filtered_string = ''.join(filter(is_not_vowel, input_string))\n",
        "\n",
        "# Output the result\n",
        "print(filtered_string)\n"
      ],
      "metadata": {
        "id": "cQNVIlJFY3iE"
      }
    },
    {
      "cell_type": "markdown",
      "source": [],
      "metadata": {
        "id": "D2a8WtPfYp3W"
      }
    }
  ]
}